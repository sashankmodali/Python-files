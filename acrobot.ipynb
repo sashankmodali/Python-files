{
 "cells": [
  {
   "cell_type": "code",
   "execution_count": 3,
   "metadata": {},
   "outputs": [],
   "source": [
    "import numpy as np"
   ]
  },
  {
   "cell_type": "code",
   "execution_count": 4,
   "metadata": {},
   "outputs": [
    {
     "name": "stderr",
     "output_type": "stream",
     "text": [
      "In /home/sashankmns/.local/lib/python3.6/site-packages/matplotlib/mpl-data/stylelib/_classic_test.mplstyle: \n",
      "The text.latex.preview rcparam was deprecated in Matplotlib 3.3 and will be removed two minor releases later.\n",
      "In /home/sashankmns/.local/lib/python3.6/site-packages/matplotlib/mpl-data/stylelib/_classic_test.mplstyle: \n",
      "The mathtext.fallback_to_cm rcparam was deprecated in Matplotlib 3.3 and will be removed two minor releases later.\n",
      "In /home/sashankmns/.local/lib/python3.6/site-packages/matplotlib/mpl-data/stylelib/_classic_test.mplstyle: Support for setting the 'mathtext.fallback_to_cm' rcParam is deprecated since 3.3 and will be removed two minor releases later; use 'mathtext.fallback : 'cm' instead.\n",
      "In /home/sashankmns/.local/lib/python3.6/site-packages/matplotlib/mpl-data/stylelib/_classic_test.mplstyle: \n",
      "The validate_bool_maybe_none function was deprecated in Matplotlib 3.3 and will be removed two minor releases later.\n",
      "In /home/sashankmns/.local/lib/python3.6/site-packages/matplotlib/mpl-data/stylelib/_classic_test.mplstyle: \n",
      "The savefig.jpeg_quality rcparam was deprecated in Matplotlib 3.3 and will be removed two minor releases later.\n",
      "In /home/sashankmns/.local/lib/python3.6/site-packages/matplotlib/mpl-data/stylelib/_classic_test.mplstyle: \n",
      "The keymap.all_axes rcparam was deprecated in Matplotlib 3.3 and will be removed two minor releases later.\n",
      "In /home/sashankmns/.local/lib/python3.6/site-packages/matplotlib/mpl-data/stylelib/_classic_test.mplstyle: \n",
      "The animation.avconv_path rcparam was deprecated in Matplotlib 3.3 and will be removed two minor releases later.\n",
      "In /home/sashankmns/.local/lib/python3.6/site-packages/matplotlib/mpl-data/stylelib/_classic_test.mplstyle: \n",
      "The animation.avconv_args rcparam was deprecated in Matplotlib 3.3 and will be removed two minor releases later.\n"
     ]
    }
   ],
   "source": [
    "import sympy as sym\n",
    "from math import *\n",
    "import matplotlib.animation as animation\n",
    "import matplotlib.pyplot as plt\n",
    "import time\n",
    "from IPython.display import HTML\n",
    "from scipy import optimize\n",
    "import cvxopt\n",
    "# from ipopt import minimize_ipopt"
   ]
  },
  {
   "cell_type": "code",
   "execution_count": 5,
   "metadata": {},
   "outputs": [],
   "source": [
    "# q1 = sym.Symbol('theta_1')\n",
    "# q2 = sym.Symbol('theta_2')\n",
    "# q3 = sym.Symbol('theta_3')\n",
    "# q4 = sym.Symbol('theta_4')\n",
    "m1 = 1\n",
    "m2 = 1\n",
    "l1 = 1\n",
    "l2 = 1\n",
    "lc1 = l1/2\n",
    "lc2= l2/2\n",
    "I1 = m1*l1**2/12\n",
    "I2 = m2*l2**2/12\n",
    "g=9.81\n"
   ]
  },
  {
   "cell_type": "code",
   "execution_count": 6,
   "metadata": {},
   "outputs": [],
   "source": [
    "def cost_calc(Q,qddot,dt):\n",
    "    global cost\n",
    "    q1=Q[0,0]\n",
    "    q2=Q[1,0]\n",
    "    q3=Q[2,0]\n",
    "    q4=Q[3,0]\n",
    "    M_mat = np.array([[I1 + I2 + m2*l1**2 + 2*m2*l1*lc2*cos(q2), I2 + m2*l1*lc2*cos(q2)],[I2 + m2*l1*lc2*cos(q2), I2]])\n",
    "    C_mat = np.array([[-2*m2*l1*lc2*sin(q2)*q4, -m2*l1*lc2*sin(q2)*q4],[m2*l1*lc2*sin(q2)*q3, 0]])\n",
    "    Tor_mat = np.array([[-m1*g*lc1*sin(q1) - m2*g*(l1*sin(q1) + lc2*sin(q1+q2))],[-m2*g*lc2*sin(q1+q2)]])\n",
    "    U = (M_mat @ qddot).reshape(qddot.shape) + C_mat @ np.array([[q3],[q4]]) - Tor_mat\n",
    "    return np.linalg.norm(U,axis=0)"
   ]
  },
  {
   "cell_type": "code",
   "execution_count": 7,
   "metadata": {},
   "outputs": [],
   "source": [
    "def state_transition(Q,q1ddot,dt):\n",
    "    global cost,t,tlast\n",
    "    q1=Q[0,0]\n",
    "    q2=Q[1,0]\n",
    "    q3=Q[2,0]\n",
    "    q4=Q[3,0]\n",
    "    U = np.array([[0],[0]])\n",
    "#     print(q1ddot.shape)\n",
    "    M_mat = np.array([[I1 + I2 + m2*l1**2 + 2*m2*l1*lc2*cos(q2), I2 + m2*l1*lc2*cos(q2)],[I2 + m2*l1*lc2*cos(q2), I2]])\n",
    "    C_mat = np.array([[-2*m2*l1*lc2*sin(q2)*q4, -m2*l1*lc2*sin(q2)*q4],[m2*l1*lc2*sin(q2)*q3, 0]])\n",
    "    Tor_mat = np.array([[-m1*g*lc1*sin(q1) - m2*g*(l1*sin(q1) + lc2*sin(q1+q2))],[-m2*g*lc2*sin(q1+q2)]])\n",
    "    U = (M_mat @ q1ddot).reshape(q1ddot.shape) + C_mat @ Q[2:,0,None] - Tor_mat\n",
    "#     print(U.shape)\n",
    "    dot_mat = np.linalg.inv(M_mat) @ (Tor_mat + U - C_mat @ np.array([[q3],[q4]]))\n",
    "    dot_mat.reshape(2,1)\n",
    "    f = np.block([[q3],[q4],[dot_mat]])\n",
    "    if t>tlast + 2:\n",
    "        tlast=t\n",
    "        print(round(t), end=' ')\n",
    "    \n",
    "    return Q + f*dt"
   ]
  },
  {
   "cell_type": "code",
   "execution_count": 8,
   "metadata": {},
   "outputs": [],
   "source": [
    "def state_transition_func(Q,U):\n",
    "    global cost,t,tlast\n",
    "    q1=Q[0]\n",
    "    q2=Q[1]\n",
    "    q3=Q[2]\n",
    "    q4=Q[3]\n",
    "    U =U.reshape(2,1)\n",
    "#     U = np.array([[0],[0]])\n",
    "#     print(q1ddot.shape)\n",
    "    M_mat = np.array([[I1 + I2 + m2*l1**2 + 2*m2*l1*lc2*cos(q2), I2 + m2*l1*lc2*cos(q2)],[I2 + m2*l1*lc2*cos(q2), I2]])\n",
    "    C_mat = np.array([[-2*m2*l1*lc2*sin(q2)*q4, -m2*l1*lc2*sin(q2)*q4],[m2*l1*lc2*sin(q2)*q3, 0]])\n",
    "    Tor_mat = np.array([[-m1*g*lc1*sin(q1) - m2*g*(l1*sin(q1) + lc2*sin(q1+q2))],[-m2*g*lc2*sin(q1+q2)]])\n",
    "#     U = (M_mat @ q1ddot).reshape(q1ddot.shape) + C_mat @ Q[2:,0,None] - Tor_mat\n",
    "#     print(U.shape)\n",
    "    dot_mat = np.linalg.inv(M_mat) @ (Tor_mat + U - C_mat @ np.array([[q3],[q4]]))\n",
    "    dot_mat = dot_mat.flatten()\n",
    "    f = np.array([q3,q4,dot_mat[0], dot_mat[1]])\n",
    "    return f"
   ]
  },
  {
   "cell_type": "code",
   "execution_count": 9,
   "metadata": {},
   "outputs": [
    {
     "data": {
      "text/plain": [
       "array([23,  5,  4,  3,  3])"
      ]
     },
     "execution_count": 9,
     "metadata": {},
     "output_type": "execute_result"
    }
   ],
   "source": [
    "import numpy as np\n",
    "a=np.array([1,23,5,4,5,3,2,3])\n",
    "b=np.where((a>=5) | (a<=2))[0]\n",
    "# np.linalg.norm(a[b])\n",
    "b\n",
    "a[b+1]"
   ]
  },
  {
   "cell_type": "code",
   "execution_count": 91,
   "metadata": {},
   "outputs": [],
   "source": [
    "def obj_func(X):\n",
    "    sum=0;\n",
    "    global del_t\n",
    "    i = np.arange(X.shape[0]);\n",
    "    i = np.where((i < X.shape[0]-12) & ((i+1+7)%12==0))[0]\n",
    "    sum = del_t/6.0*(np.linalg.norm(X[i])**2 + np.linalg.norm(X[i+1])**2 + 4*(np.linalg.norm(X[i+6])**2 + np.linalg.norm(X[i+1+6])**2) + np.linalg.norm(X[i+12])**2 + np.linalg.norm(X[i+1+12])**2)\n",
    "#       if (i+1+7)%12==0:\n",
    "#         sum=sum+del_t/6.0*(X[i]**2 + X[i+1]**2 + 4*(X[i+6]**2 + X[i+1+6]**2) + X[i+12]**2 + X[i+1+12]**2)\n",
    "    return sum"
   ]
  },
  {
   "cell_type": "code",
   "execution_count": 168,
   "metadata": {},
   "outputs": [],
   "source": [
    "def callback(xk,state):\n",
    "    plt.plot([0,state.nit],[0,0],linewidth=4)\n",
    "    plt.show(block=False)"
   ]
  },
  {
   "cell_type": "code",
   "execution_count": 11,
   "metadata": {},
   "outputs": [],
   "source": [
    "# def interpol_constraints(Q,i,del_t):\n",
    "#     boola\n",
    "#     return boolarray.flatten()\n",
    "# def collocation_constraints(Q,i,del_t):\n",
    "#     boolarray = \n",
    "#     return boolarray.flatten()\n",
    "arrr = np.array([(1,1)]*10)\n",
    "arr2 = np.array([1]*6 + [0]*4)\n",
    "# arrr[:,0] = arr2\n",
    "\n",
    "a=inf\n",
    "a\n",
    "def wrap_angle(angle):\n",
    "    while abs(angle) > np.pi:\n",
    "        angle= angle-np.sign(angle)*2*np.pi\n",
    "    return angle"
   ]
  },
  {
   "cell_type": "code",
   "execution_count": 163,
   "metadata": {},
   "outputs": [
    {
     "data": {
      "text/plain": [
       "array([[ 4.71238898],\n",
       "       [-6.28318531],\n",
       "       [ 0.        ],\n",
       "       [ 0.        ]])"
      ]
     },
     "execution_count": 163,
     "metadata": {},
     "output_type": "execute_result"
    }
   ],
   "source": [
    "del_t = 0.2\n",
    "tf = 2;\n",
    "q01 = pi/2\n",
    "q02 = 0\n",
    "qf1 = -pi/2\n",
    "qf2 = 0\n",
    "qdot1des = 1;\n",
    "qdot2des = -1;\n",
    "\n",
    "if qdot1des!=0:\n",
    "    while np.sign(qf1-q01)!=np.sign(qdot1des):\n",
    "        qf1 = qf1 + np.sign(qdot1des)*2*pi;\n",
    "if qdot2des!=0:\n",
    "    while np.sign(qf2-q02)!=np.sign(qdot2des):\n",
    "        qf2 = qf2 + np.sign(qdot2des)*2*pi;\n",
    "# q_init = np.block([[np.linspace(-pi/2,pi/2,tf/del_t)],[np.zeros((1,tf/del_t))],[],[]])\n",
    "q0 = np.array([[q01],[q02],[0],[0]]);\n",
    "qf = np.array([[qf1],[qf2],[0],[0]]);\n",
    "Q0 = np.block([[q0[0,0] + (qf[0,0]-q0[0,0])*np.arange(0,tf+del_t/2,del_t/2)/(tf)],[q0[1,0] + (qf[1,0]-q0[1,0])*np.arange(0,tf+del_t/2,del_t/2)/(tf)],[q0[2,0] + (qf[2,0]-q0[2,0])*np.arange(0,tf+del_t/2,del_t/2)/(tf)],[q0[3,0] + (qf[3,0]-q0[3,0])*np.arange(0,tf+del_t/2,del_t/2)/(tf)],[0*np.arange(0,tf+del_t/2,del_t/2)],[0*np.arange(0,tf+del_t/2,del_t/2)]])\n",
    "Q0 = Q0.T.flatten()\n",
    "\n",
    "i = np.arange(Q0.shape[0]);\n",
    "objind = np.where((i < Q0.shape[0]-12) & ((i+1+7)%12==0))[0]\n",
    "objind2 = np.where((i-1 < Q0.shape[0]-12) & ((i-1+1+7)%12==0))[0]\n",
    "objind3 = np.where((i-6 < Q0.shape[0]-12) & ((i-6+1+7)%12==0))[0]\n",
    "objind4 = np.where((i-1-6 < Q0.shape[0]-12) & ((i-1-6+1+7)%12==0))[0]\n",
    "objind5 = np.where((i-12 < Q0.shape[0]-12) & ((i-12+1+7)%12==0))[0]\n",
    "objind6 = np.where((i-1-12 < Q0.shape[0]-12) & ((i-1-12+1+7)%12==0))[0]\n",
    "hess_arr = np.zeros((Q0.shape[0],Q0.shape[0]))\n",
    "hess_arr[objind,objind] = del_t/6.0\n",
    "hess_arr[objind2,objind2] = del_t/6.0\n",
    "hess_arr[objind3,objind3] = 4*del_t/6.0\n",
    "hess_arr[objind4,objind4] = 4*del_t/6.0\n",
    "hess_arr[objind5,objind5] = del_t/6.0\n",
    "hess_arr[objind6,objind6] = del_t/6.0\n",
    "Q0.shape\n",
    "# np.arange(0,tf+del_t/2,del_t/2)\n",
    "# Q=Q0\n",
    "qf\n",
    "# interpolarray = 0.5*(Q[a:a+4] + Q[a+12:a+12+4]) + del_t/8.0*(state_transition_func(Q[a:a+4],Q[a+4:a+6]) - state_transition_func(Q[a+12:a+12+4],Q[a+12+4:a+12+6])) - Q[a+6:a+6+4]\n",
    "# interpolarray"
   ]
  },
  {
   "cell_type": "code",
   "execution_count": 156,
   "metadata": {},
   "outputs": [
    {
     "name": "stdout",
     "output_type": "stream",
     "text": [
      "8 40 80 128\n",
      "88\n"
     ]
    }
   ],
   "source": [
    "# bounds_array = np.array([(-inf,inf)]*Q0.shape[0])\n",
    "equalityconstraints = [];\n",
    "boundaryconstraints = [];\n",
    "inputconstraints = [];\n",
    "pathconstraints = [];\n",
    "umin = -10000\n",
    "umax = 10000\n",
    "# bounds_array[0:4,0] = q0\n",
    "# bounds_array[0:4,1] = q0\n",
    "# bounds_array[-6:-2,0] = q0\n",
    "# bounds_array[-6:-2,1] = qf\n",
    "def bound_constraint(Q):\n",
    "    return Q[-6] - qf[0,0]\n",
    "boundaryconstraints.append({\"type\" : \"eq\" , \"fun\" : bound_constraint})\n",
    "def bound_constraint(Q):\n",
    "    return Q[-5] - qf[1,0]\n",
    "boundaryconstraints.append({\"type\" : \"eq\" , \"fun\" : bound_constraint})\n",
    "def bound_constraint(Q):\n",
    "    return Q[-4] - qf[2,0]\n",
    "boundaryconstraints.append({\"type\" : \"eq\" , \"fun\" : bound_constraint})\n",
    "def bound_constraint(Q):\n",
    "    return Q[-3] - qf[3,0]\n",
    "boundaryconstraints.append({\"type\" : \"eq\" , \"fun\" : bound_constraint})\n",
    "def bound_constraint(Q):\n",
    "    return Q[0] - q0[0,0]\n",
    "boundaryconstraints.append({\"type\" : \"eq\" , \"fun\" : bound_constraint})\n",
    "def bound_constraint(Q):\n",
    "    return Q[1] - q0[1,0]\n",
    "boundaryconstraints.append({\"type\" : \"eq\" , \"fun\" : bound_constraint})\n",
    "def bound_constraint(Q):\n",
    "    return Q[2] - q0[2,0]\n",
    "boundaryconstraints.append({\"type\" : \"eq\" , \"fun\" : bound_constraint})\n",
    "def bound_constraint(Q):\n",
    "    return Q[3] - q0[3,0]\n",
    "boundaryconstraints.append({\"type\" : \"eq\" , \"fun\" : bound_constraint})\n",
    "for i in range(Q0.shape[0]-11):\n",
    "    if i%12==0:\n",
    "        def input_constraint(Q,i=i):\n",
    "            return np.linalg.norm(Q[i+4:i+6])-umin\n",
    "        inputconstraints.append({\"type\" : \"ineq\" , \"fun\" : input_constraint})\n",
    "        def input_constraint(Q,i=i):\n",
    "            return -np.linalg.norm(Q[i+4:i+6])+umax\n",
    "        inputconstraints.append({\"type\" : \"ineq\" , \"fun\" : input_constraint})\n",
    "        def input_constraint(Q,i=i):\n",
    "            return np.linalg.norm(Q[i+4+6:i+6+6])-umin\n",
    "        inputconstraints.append({\"type\" : \"ineq\" , \"fun\" : input_constraint})\n",
    "        def input_constraint(Q,i=i):\n",
    "            return -np.linalg.norm(Q[i+4+6:i+6+6])+umax\n",
    "        inputconstraints.append({\"type\" : \"ineq\" , \"fun\" : input_constraint})\n",
    "#         def path_constraint(Q,i=i):\n",
    "#             return Q[i+3]#*qdot2des\n",
    "#         pathconstraints.append({\"type\" : \"ineq\" , \"fun\" : path_constraint})\n",
    "#         def path_constraint(Q,i=i):\n",
    "#             return Q[i+3+6]*qdot2des\n",
    "#         pathconstraints.append({\"type\" : \"eq\" , \"fun\" : path_constraint})\n",
    "#         def path_constraint(Q,i=i):\n",
    "#             return Q[i+2]*qdot1des\n",
    "#         pathconstraints.append({\"type\" : \"ineq\" , \"fun\" : path_constraint})\n",
    "#         def path_constraint(Q,i=i):\n",
    "#             return Q[i+2+6]*qdot1des\n",
    "#         pathconstraints.append({\"type\" : \"ineq\" , \"fun\" : path_constraint})\n",
    "        if i<Q0.shape[0]-17:\n",
    "            for j in range(4):\n",
    "                def interpol_constraint(Q,a=i,b=j):\n",
    "                    global del_t\n",
    "                    interpolarray = 0.5*(Q[a:a+4] + Q[a+12:a+12+4]) + del_t/8.0*(state_transition_func(Q[a:a+4],Q[a+4:a+6]) - state_transition_func(Q[a+12:a+12+4],Q[a+12+4:a+12+6])) - Q[a+6:a+6+4]\n",
    "                    return interpolarray.flatten()[b]\n",
    "                def collocation_constraint(Q,a=i,b=j):\n",
    "                    global del_t\n",
    "                    collocationarray = (Q[a:a+4] - Q[a+12:a+12+4]) + del_t/6.0*(state_transition_func(Q[a:a+4],Q[a+4:a+6]) + state_transition_func(Q[a+12:a+12+4],Q[a+12+4:a+12+6]) +4*state_transition_func(Q[a+6:a+6+4],Q[a+6+4:a+6+6]))\n",
    "                    return collocationarray.flatten()[b]\n",
    "                equalityconstraints.append({\"type\" : \"eq\" , \"fun\" : interpol_constraint});\n",
    "                equalityconstraints.append({\"type\" : \"eq\" , \"fun\" : collocation_constraint});\n",
    "        \n",
    "constraints_array = boundaryconstraints+equalityconstraints+inputconstraints + pathconstraints\n",
    "print(len(boundaryconstraints),len(inputconstraints),len(equalityconstraints),len(constraints_array))\n",
    "print(len(boundaryconstraints + equalityconstraints))"
   ]
  },
  {
   "cell_type": "code",
   "execution_count": 164,
   "metadata": {},
   "outputs": [
    {
     "name": "stderr",
     "output_type": "stream",
     "text": [
      "/home/sashankmns/.local/lib/python3.6/site-packages/scipy/optimize/_minimize.py:523: RuntimeWarning: Method SLSQP does not use Hessian information (hess).\n",
      "  RuntimeWarning)\n"
     ]
    }
   ],
   "source": [
    "opt_res = optimize.minimize(obj_func,Q0, jac = lambda x,mat=hess_arr : mat @ x, hess = lambda x : hess_arr,constraints=constraints_array,options={\"maxiter\" :10000})\n",
    "Q_star =opt_res.x\n",
    "# np.cos(Q_star)"
   ]
  },
  {
   "cell_type": "code",
   "execution_count": 165,
   "metadata": {},
   "outputs": [
    {
     "name": "stdout",
     "output_type": "stream",
     "text": [
      "True\n",
      "Optimization terminated successfully\n",
      "2570\n",
      "control effort : 212.63824131195142\n",
      "jacobian norm : 3.668390899615908\n",
      "Max control input : (1.9047619047619047, 22.033500970029944)\n",
      "[[  1.57079633   0.           0.           0.          15.25666786\n",
      "   -7.51171615]\n",
      " [  1.42655699   0.60398915  -2.28863062   9.23592422   8.79130452\n",
      "    5.61303046]\n",
      " [  1.23230142   1.27841308  -1.00032462   1.4086954   15.6551609\n",
      "   -5.88304508]\n",
      " [  1.22367257   0.90550143   0.45656238  -6.89269873   5.23892827\n",
      "    5.00248767]\n",
      " [  1.24937685   0.29471926  -0.31366208  -3.34871489   9.84115002\n",
      "   -0.10096049]\n",
      " [  1.13241052   0.31067184  -1.39962975  -0.12375134   2.3256856\n",
      "    3.08714466]\n",
      " [  1.09465784  -0.48833457   1.27061078 -19.64789464   2.20980442\n",
      "   -0.49236642]\n",
      " [  1.6668591   -1.86791741   8.45428407  -8.06017371   1.72568373\n",
      "   -7.1670273 ]\n",
      " [  2.44168858  -2.12365162   5.32317506   2.82907798   8.18843405\n",
      "  -19.20047595]\n",
      " [  2.73432672  -2.60420254   1.74827483  -8.94166584   0.81965544\n",
      "   -6.20477703]\n",
      " [  3.03508097  -3.21229865   5.48549733   0.27817434   0.83283181\n",
      "    0.53232152]\n",
      " [  3.33658984  -3.69427396   1.75412144  -7.0994188    0.19546344\n",
      "    6.20699931]\n",
      " [  3.62779351  -4.06853009   5.2793932    2.4325578  -13.08140394\n",
      "    5.90439653]\n",
      " [  4.38518578  -4.39579583   8.24279733  -8.72723581  -2.25901639\n",
      "    8.30633255]\n",
      " [  4.95122202  -5.76384991   1.45227269 -18.38320906  -2.1132792\n",
      "    1.20614977]\n",
      " [  4.94597478  -6.51075282  -0.96334171  -0.13732161  -2.43599455\n",
      "   -3.03937844]\n",
      " [  4.87732882  -6.50780871   0.18429811  -3.38626856 -10.5113509\n",
      "    1.47674757]\n",
      " [  4.95595288  -7.22447173   1.04115928  -8.64201476  -4.4255494\n",
      "   -6.22406963]\n",
      " [  5.0161559   -7.77521622  -0.18412267  -0.06789787 -16.16834525\n",
      "   13.36693073]\n",
      " [  4.85966937  -7.03089821  -2.23222125  11.20720633  -8.01840488\n",
      "   -9.45683681]\n",
      " [  4.71238898  -6.28318531   0.           0.         -17.82499668\n",
      "   12.95162763]]\n"
     ]
    },
    {
     "data": {
      "text/plain": [
       "[<matplotlib.lines.Line2D at 0x7f2dd1b23358>]"
      ]
     },
     "execution_count": 165,
     "metadata": {},
     "output_type": "execute_result"
    },
    {
     "data": {
      "image/png": "[encoded data removed]",
      "text/plain": [
       "<Figure size 432x288 with 1 Axes>"
      ]
     },
     "metadata": {
      "needs_background": "light"
     },
     "output_type": "display_data"
    }
   ],
   "source": [
    "Q_sol = Q_star.reshape(round(Q_star.shape[0]/6),6)\n",
    "print(opt_res.success)\n",
    "print(opt_res.message)\n",
    "print(opt_res.nit)\n",
    "print(\"control effort : \" + str(opt_res.fun))\n",
    "print(\"jacobian norm : \" + str(np.linalg.norm(opt_res.jac)))\n",
    "inputs = np.linalg.norm(Q_sol[:,4:6],axis=1)\n",
    "print(\"Max control input : \" + str((np.argmax(inputs)/Q_sol.shape[0]*(tf),inputs.max())))\n",
    "# np.linalg.norm(Q_sol[:,4:6])\n",
    "print(Q_sol[:,:])\n",
    "# Q_sol.shape\n",
    "q =Q_sol[0,0:4].reshape(4,1)\n",
    "plt.plot([0,l1*sin(q[0,0]),l1*sin(q[0,0])+l2*sin(q[1,0]+q[0,0])],[0,-l1*cos(q[0,0]),-l1*cos(q[0,0]) -l2*cos(q[1,0]+q[0,0])],'-k',linewidth=2)"
   ]
  },
  {
   "cell_type": "code",
   "execution_count": 169,
   "metadata": {},
   "outputs": [],
   "source": [
    "def animate(i):\n",
    "    global t, tf , q, u,del_t,l1,l2,Q_star,tlast,j\n",
    "    if t[-1]<=tf+del_t/4 and j<=Q_sol.shape[0]:\n",
    "        ax = plt.gca();\n",
    "        ax.clear();\n",
    "        q1ddot = 2*np.array([[-pi/2-q[0,0]],[0-q[1,0]]]) + 6*np.array([[-q[2,0]],[-q[3,0]]])\n",
    "#         q = state_transition(q,q1ddot,0.01)\n",
    "        q = Q_sol[j,0:4].reshape(4,1)\n",
    "        if j == 0:\n",
    "            q = Q_sol[0,0:4].reshape(4,1)\n",
    "#         plt.clear()\n",
    "        ax.plot([0,l1*sin(q[0,0]),l1*sin(q[0,0])+l2*sin(q[1,0]+q[0,0])],[0,-l1*cos(q[0,0]),-l1*cos(q[0,0]) -l2*cos(q[1,0]+q[0,0])],'-k',linewidth=2)\n",
    "        ax.set_xlim([0-l1-l2,0+l1+l2])\n",
    "        ax.set_ylim([0-l1-l2,0+l1+l2])\n",
    "        if abs(t[-1]-0) < del_t/2:\n",
    "            print(q.flatten(),j,t)\n",
    "        t=np.append(t,t[-1]+del_t/2);\n",
    "        j=j+1\n",
    "        if abs(t[-1]-0) < del_t/2:\n",
    "            print(q.flatten(),j,t)\n",
    "        if t[-1]>=int(tlast)+2:\n",
    "            tlast = int(t[-1])"
   ]
  },
  {
   "cell_type": "code",
   "execution_count": 170,
   "metadata": {},
   "outputs": [
    {
     "name": "stdout",
     "output_type": "stream",
     "text": [
      "[1.57079633 0.         0.         0.        ] 0 [0]\n"
     ]
    },
    {
     "data": {
      "text/html": [
       "<video width=\"432\" height=\"288\" controls autoplay loop>\n",
       "  <source type=\"video/mp4\" src=\"data:video/mp4;base64,AAAAHGZ0eXBNNFYgAAACAGlzb21pc28yYXZjMQAAAAhmcmVlAAAqGm1kYXQAAAKuBgX//6rcRem9\n",
       "5tlIt5Ys2CDZI+7veDI2NCAtIGNvcmUgMTUyIHIyODU0IGU5YTU5MDMgLSBILjI2NC9NUEVHLTQg\n",
       "QVZDIGNvZGVjIC0gQ29weWxlZnQgMjAwMy0yMDE3IC0gaHR0cDovL3d3dy52aWRlb2xhbi5vcmcv\n",
       "eDI2NC5odG1sIC0gb3B0aW9uczogY2FiYWM9MSByZWY9MyBkZWJsb2NrPTE6MDowIGFuYWx5c2U9\n",
       "MHgzOjB4MTEzIG1lPWhleCBzdWJtZT03IHBzeT0xIHBzeV9yZD0xLjAwOjAuMDAgbWl4ZWRfcmVm\n",
       "PTEgbWVfcmFuZ2U9MTYgY2hyb21hX21lPTEgdHJlbGxpcz0xIDh4OGRjdD0xIGNxbT0wIGRlYWR6\n",
       "b25lPTIxLDExIGZhc3RfcHNraXA9MSBjaHJvbWFfcXBfb2Zmc2V0PS0yIHRocmVhZHM9NiBsb29r\n",
       "YWhlYWRfdGhyZWFkcz0xIHNsaWNlZF90aHJlYWRzPTAgbnI9MCBkZWNpbWF0ZT0xIGludGVybGFj\n",
       "ZWQ9MCBibHVyYXlfY29tcGF0PTAgY29uc3RyYWluZWRfaW50cmE9MCBiZnJhbWVzPTMgYl9weXJh\n",
       "bWlkPTIgYl9hZGFwdD0xIGJfYmlhcz0wIGRpcmVjdD0xIHdlaWdodGI9MSBvcGVuX2dvcD0wIHdl\n",
       "aWdodHA9MiBrZXlpbnQ9MjUwIGtleWludF9taW49MTAgc2NlbmVjdXQ9NDAgaW50cmFfcmVmcmVz\n",
       "aD0wIHJjX2xvb2thaGVhZD00MCByYz1jcmYgbWJ0cmVlPTEgY3JmPTIzLjAgcWNvbXA9MC42MCBx\n",
       "cG1pbj0wIHFwbWF4PTY5IHFwc3RlcD00IGlwX3JhdGlvPTEuNDAgYXE9MToxLjAwAIAAAA1rZYiE\n",
       "ABD//veBvzLLXyK6yXH5530srM885DxyXYmuuNAAAAMADN2TX/vFjYagEFgb6hKL5qLackr/C61D\n",
       "xKN7nmxVcqD9iQ8RDHvfbA11l3eSvRGr+4ZwUuWDt9vzu6ZrF8L9a7AAFZad/dT8/n9Uwsz8BIV6\n",
       "ftF0PP3DppnhZmlzPkS3ysN/SDwpAemcN7POXWZW3H/HUZV1Hset5N+WgXlPIN0Tdb/0Nwbk0XXr\n",
       "HVXwqM65/NdGr1JjU1aWUqOBZmpOr2rh/UV5kpu5y0oJpB33Z7ZvcxwwSm1Sr4IZqibCRunmFaLe\n",
       "31xRj/N2/4qp+wbyAkg2+s6WGAXL/wYVn7er09z66RFwUvjOki7PrRzRIfVD0jP++xzdT60Nmgxm\n",
       "5h6U8Wh3qa1B+vj6Oanpuo8Bplcnlq/IFlxJEUqw79s+zJX4or3rmoHsP8Lckm0e2nKPLfdNjvHl\n",
       "rZCYv+w5W7L/y/6U1du6G8AAPEL+79jG80EA2IJwJh+AaG1C8lWip4Qulko6As4ClIOAoE5w8p2S\n",
       "A8sdloPfaCoIQuZ4Ap4Td99gPsEcoNsfd79+TvsT5FIadAAH4drYr/HnSVa6FX1qtOSKsEQ7MDdF\n",
       "dz+HAXLJn5mBAofHAszhhjNQulCvuVQ4QRb+QUsZQ8fILyC1ZkRkp9Hw/Deep0PKrD3Z/EKNiS2R\n",
       "ILxBfl5z/r46y4f/uhzwqeaEM73QQTNDoraCW2rg3pE/mWeUFoVY/JJu/ACQqefo3W89gAGqXWMD\n",
       "HNuAH1yM/lX/0EXFlCFZVLxdnB4o3odcxEzkHRVm6VHX/qXI4WRQp6r7uPJURQS38QmgTXtkjQND\n",
       "0S5Vy8zy79F7iO7Q41+Mdr1Yfe0JxQIWDjVuJ9KMi066FfsWid9evzV7wF7eBf93xRIcPiG9bj8Z\n",
       "dtI7lOfDZoe8v/RJU7A2l9Vlhz7cD7jzOs2xHxk9mcWV5mXdWM1l1dcbtrOQRoYIWPx+R6IiGHqH\n",
       "GuF3jwtZuIdoH5fcX+7AJauGtDpfXLbjtdbDF69rK3nhGPJKuOlxv+513Ja9hcytWiznH/PmcGag\n",
       "Vr/TG9df8dLxOwUvV4Ofji8mSU+PjoBNCxRbVFECZ5ndMjqzKsAs8WNBi5fpD3PJKebpOvDEtzPt\n",
       "YFiPN/89m7v4+8O/5TOTsp84NZqOLTfMEQsZbu5VQeYhSGQOtlWXhwunVVGDu67sPbuN+gL4Oge6\n",
       "VcnaxilUeihFy4LQdl+po0MHaXAQEe1vzR31Tnbazkb0o4iKOmca2pEPv2yE7UyP/o80nAb7HMM/\n",
       "9ZKOcU6g2p6+kLiyl99Lt3XskFLYnheXz7tfJgm9+shUiBTeADoDgAKzb9aOZa37h+1Qzm5/yVpq\n",
       "nYNL+S2YaHYSfOGbJgJZsnoOtl5+vMw1D9EjAUbcmYGY0Nuh6BzWWy6nyLT+fzLf3SKi6bqyDJ9X\n",
       "slJGUfEC8+Jge9ENkOiJhFVE7TL40mm1UaxVYrJ0uqMV8Lvv+mPPO5pTF5U5NMpais3e6BCu9K/8\n",
       "sgcDHjcQFZ4WtIV8jiibH1a8+HlO6fNWAQM0RHJSAmqgA0o80LhmMv//uXdRvQuji373/wBM51IS\n",
       "SqlWzhUuwqdMaqk3iQVZFDITzBJhSrwfxtQLZrzF5fGQw/9cMwKRCav/wDBRbHYtoJL/zLU+VQL5\n",
       "8KSereuonVcBImVIvbL6b/5O/Gzu/Vw0tudI76abXpCKscxWU4qas4supCE/BCYV2RG69p3fNfSf\n",
       "m0OeYCCP+kYJHcoYriwIXuWRpZpBTUDqpR/vSjXqu4dUVDAhE5rMktFTGE7kFD+a3ehN9wWj6pqY\n",
       "a4HbNBrirHM+0NFeNSrDCFiGM02eWsFbGNeybbpu2USTG9VlTYuFpyMIXc9Z78rAlMoWd2FWLSX2\n",
       "Zc6yHtoj9Bq9fi4jfZAemPvNe5cpM1/q7HAACi9/NgAARoRqkrbWqfcez6xEBDu5/i3wjYNFoorb\n",
       "baIl5cv6P14hSJLq+eLUdLiq7IkkxFpj7EvnyOWP3v9vUuZbpDIZO8jaRH1vjc9gw9x7aKOBYmB6\n",
       "RwMCwDhRTVvUT4byxGy6JvAc9KCsZ1VxIhSghYDHzJK9dmkpwPTyWBUsPuns4G+ekM098AosZht5\n",
       "YCCrzE18NYRL4G0TEj0RnUnovAjOpCf3YCGFnJhJeCsnNeaZQBtwESl9r7gePtSfSzSQPy6Q0EjJ\n",
       "IGxHtJ76VvgHgBarZ1zGb4DevwKl4b8yGjiMj1iX9X9q5AFrCeAo/1tlRhWt18iiufQ1faZoWrDu\n",
       "g+jX8LZjTFMmr6kCcbWCCEKOOgT7verOefz6Q9Ndzeh/TZlPfjhVK79A4C1tCkGmq/mREwpAYxsn\n",
       "l7KkABNR+CjDgZ+40rLiu/nn/t/lsSt7J/VnbOrnrpo2SopxAZhz64Vt52kbE8A4OwWcuVqnavHm\n",
       "5uLIs78H+oPai+wTNKcvEZww64c7VP9D6tb8GNgWpe/KNXYlDz77ANMJqqXwWd9PViPtDe/nP5HN\n",
       "euPZvezktRznPP/h6vkge4KibNag2Eq1GR9dqv9YO2hH21ImOuEJUgLxhfOizmc1J1LvlVH9YA4L\n",
       "/mgtmjcqKzfDHpAcabPa0EsjOM60WZcBDoYA14AUG3FQurMJ2ekoUKTBOJLFi0YyZh73pzD7FgWk\n",
       "fguHyfSdYRmamw+9gbAuHeeVb9vfo5ZqbnLErJ8nslpfk6QP6oMrUSTAP1hRcEQ2K4hOk9O3cOAw\n",
       "CqyzF4cjyBT28Y8E0rz1l6u0nHIO41/2TAfPVS+KYunTd+l+jrFk1L/nk/ztlx05Xvu5NBLA7JIN\n",
       "EKtjbhduPckCAzwBNrGuOAiFg4xh5Fxj/3pk1qQiw/FYbQm7TqzJlLBMIuJ1ZxqM/FhyslLIqrk9\n",
       "j/OgDI4woWzyQmrLjbmWX7Rgnjckn0QOUd5CkLDGhvUW5W47U3uzg7E0Bs6zrVTEX2J2ZKdt5+US\n",
       "GxQWOtCHz8Y0KwYamzgAi1IUcDkJknFa1cP8VuqMOqI0YETHjfb3KZZ+ZKDVPJA9EM/aL/rPczky\n",
       "SzZc9T2QuSbVbIQC0P6YQ41vJCr6z9qXJVQ+YxyKG0QewgWZfWGr5Jm+jAaQgyLFkknAYS6Z/K2c\n",
       "Cvo94mLftWZ0zh9cjiBsj2YxLfxP8DNIi7VMNubEEVENwIivVoZhtmTmcwl8UVGIzrI20DIz4jSz\n",
       "gbiuJqKlSR/lNyOH3HHBOz/Ds5eTJq+QdEY/4EXt2P2PIh9afRziYgNAytvtUHBEmdYKLZNRknv1\n",
       "vCKI1HLKnV44R0+lqbNO4Ypf+NCEKi80PZIujApFXhrXLVpS7+ZJufmoCHo2MrbWjmcg7khCrXFH\n",
       "zGWElNkf9zk24jac9NDDlNtL4S9iFj/cmgjnbEtC/1At3g0+iaTCiSryUjbN22skaEk9U9YrO5xm\n",
       "gCT5UNpSq75soY0phRdMsg7wHLjoGas7953Sd1O2nNMai3eLshW6yUDSw3V7gPfddBtcZJqpN/9y\n",
       "YXwSUSl54xhUUduL22vHaFGsmqqRjCwOvBAtwwbpgSs4pqjQjlWFuqKmhdRtVLE3L0E+Nic4sbZm\n",
       "+jPkW6Kf2I7UR2NZvkxXKUTPH58snSU4k9R88lVTiimwsV0s/33YEFWIRZV/nLliJpoERsEiOaii\n",
       "5mJCUrzv/gmJIF5Bf7XKu30HV37dNUiw0VtE992zZP2ytX24remstT8nD4CoK8IzwSf1FyvB4ARf\n",
       "CnrcvZzBu/lhSu0Y2d+7TAJ3FrLvjkcKLZr/frTENOM6UdsBe8Kg8Xsbf+2qPxDVETbJnHADDsOa\n",
       "EZScY//fX/hnS0uTD1VJS96W12UglZVc6JdYGlfun9m2W+UbgTDLtfVSTsVdA3rXwHdSi/k4TPzn\n",
       "3hhSXq1YtbrKcV5YXAAMFzBvzieU7wxU0aYHvv3Yzz44lWS99LmJ/zzFGko6t7YaBYvzYhWBjf3g\n",
       "ciAFxBAZqhtZ5XdZYPGkhMwDnVOLKpiXNcDqyfCVczRRvAW+NIhV7HYQ/vqSDqi9ejusJCTBBn7c\n",
       "a/Ep8FwPYYNue8QybY2OFRC8B9OSY42nNf+ZMOQZel8svi+qfiX9vUkB/XVO6unmShf+i0wSZ70A\n",
       "FxiKJw0sQJdXCkKZNvBinNM5GmvSjwLaOz2qv72nAgFlcOkWVSdgN04hJvZrVNq1sJNVUu3X40rh\n",
       "OIz5ogkcIhhiYsSsH4xflYTu0nCnoTjntB6r41ISsuPDoDaLH0HJwbE6shajrYnIS//YMWNiMyWG\n",
       "U+quhmfPuqI4n16rfh47T/kZjL56aH8ZQImMf/pZaHWiWK9HUwfaOr5NfA7pPboxdjQY/HhDqtni\n",
       "VC9UQ3lj9uPtLmOuHcQ8eDAAuhdqK94QF6a5pyG7KQW8Wzbc2LfBA8S/hAvIWlo58yx+vJ4mdlnX\n",
       "8YU5rA/yaCkZWc5JazsIOWLhWdda+rSjM5R5nnkb+e474csK9Ym/uI63/esh+07mpctr9DzjD+mj\n",
       "i0iXxnrJIiImvQhD+N1NuQVsKDfyyuQOwenIgv3c4hQKrXYrAxljvkvBOqn+xYmZnvOCUXN54xc3\n",
       "AAAu1lUAAd4EEPmBAAADFkGaImxD//6plgBx18vAF/uyu5iIimnGhZXIzb8IqpgYiOsLVBKm4v5c\n",
       "Cpyg2OBBB/WG7Xhv6pp2bYGWj/J+Hif3WtDRmSZ3SoR8KhC1ujfdPd5R/uioMMTTpab6PlTJkzkD\n",
       "5K8vpakZJZY6f/c+xigqobDTMkifwFznEON1CvkKYhGUHzxOcPxsgzbGRmv+pb+B9cGhxIQo9udf\n",
       "cdfbipgAk8hpM4avWOBPBP2rBC7z9uUMVck7h9m2kcyy9c+WiugzjhSYb+iCABKxIw60sA7QWJQg\n",
       "QP31poGTSv93ci2Bwwf7JHqlvVEXpCgN8gO3Ias7TzCx0JaexQsDfRzYH+TQ4NfN5EkoJhfQClWR\n",
       "i/Bmztpzsw8r+dKepPKsH0xtEhBwOrfn/AEXnYKftr5dERuQKaJIcT8eBPN4TpFVUuHL6OKY4sry\n",
       "vBkQ/uOmH53EUOCFiY3j9hESWu5nLCHV1uM7jMQc4VWUoGLaVW1CWJEdK4sHZnXsvNHnYa0dJt9l\n",
       "ekTo2X+4PaiLNw3+RKat+iLgNrTxnX1UgCe6d+cUrjsDJb/DeWmYvX6nSUSrpW1eZ1um8q1W3U4R\n",
       "QHc+4Le5apoff99utAnpMRudbiXu005aO0faIxitKpY12+Tm/38rhxqf9dCiiiQaAK1YHxNbbCuj\n",
       "52DndFsylgTvehzm9RrkjU/yB+Qq4hVycA5VG7Jr7dwdXriZ5ZvNvy7Ds3vxH0ig2OKHl7hLuPlV\n",
       "eagYQODD4v98vXErS5Z7WvAZ+t13uDOuK7oUuIg33fI9x04QmB/xtQZ9C0fAmfElV2iUi93qWnBV\n",
       "JeiiwYgxVKJQ2KOv9PMGsnakU3OkypghVR8li19HKUpeGuQPF6WyKsDy79+5YLjglbd4iPxShuwJ\n",
       "Bpg3mfft5hoXf8lZSW7gLohzzW6+AkPRyg2DkQWzYm2XTxgez9ppam6Vl0TBP7erwZhHqebQbMmv\n",
       "hLQc/YzNh1klUXPjOHDrewYdj2cTSzQZ+KGWyP0oFYMvIHArWplc9siN9ET94ZkVhfQj4sixjB1Q\n",
       "bdq4pk5J4TsAAAFAAZ5BeQ3/AFHTw+zMEcIccv0RJlONIAIfrPoFHEUasnCZMxmqot1LAyvMAHcj\n",
       "8YiBjDmP388Losq+3RG3g8QdMGL/APkiPPONRnsOZ+4Ezz+Yj9v/EcEw6Xf6Ie5RbrYuoA2NcpWc\n",
       "+LQTZ7L3cAcLLSr2TIl5ezOiZiyZEWWTQ7wSukTrQ1GyemMQ/Gg6HYjWsIWMqfXjMDs+zJ4Xm2ea\n",
       "5J0Tgumd61SaPlaGuDKPb9vmLa9RzpiHNb+93bPCjI2MxGpJuKx2ssMPC2bzSAukQ85+/lriWGE3\n",
       "kjrZs8BpKWLCkbTfxyzYrDJfgiukX+cmeRWJAUvxmHSar72DsdMXzTU4Q8V0+r7sGP+lRK4EOT6/\n",
       "ACtt/ynKE7UsAZKvIQvsklJLfKvaoN566WQbPUacBx5s+8mvZSB4PV1LxH7Gxx0AAADPQZpDPCGT\n",
       "KYQ///6plgACprVfMfhWPFjAoPFtn3DHwAfV+NJkDwqcG984eeATM/QezHtOl3zQLG5ooEihq1dJ\n",
       "krevJajr/t+O6AxUJ/C1j/9CySDcJ58X5AQOIJCrGTsS2VyDm6OSgPVErfeuaV/RE3X+gOrJv73k\n",
       "H+hTb95xlOI0eTVdUk5eJBFBDoGoExPDHsG2bLNVvb00OGBH8FBlT9izv7yI9nyHqxSBauFqscwt\n",
       "p2RtN0xvY5CYx8/DLtZKexl5jakMeKNbOALDzNLAAAABP0GaZEnhDyZTAh///qmWAAK31NUAIyrC\n",
       "tDynlaYhl17QhVIcuV4KgjmFJ/nN9jrOWT2Upq3YNHaP/X9M6UCzb441qY9eYj/kBqeBYeoKRS5j\n",
       "++2OeEWIoCtaG0Cfx8vxwcTaM2+4dvEuNZiiZaEhQ3ZDzypn/eEsJVQss0ZQ15GNHnL1E8wNGSWu\n",
       "KPMEq94UGFhHRlL+BQ8zG41Ja+OoD+nTj2LMY1+9xW8pWCGKHzjiF2c+zyLWgBUv1xWW2WYZeho8\n",
       "x9pq9zbwHFzbvW+saFBxY814hTJbALiEHmPFE31HSYdjLaDBaoO4PpwYFNiW7nmyB0OeXfwmCyzD\n",
       "0Xw7vr7CWfzevLji0fHjLFroTMLRF/F9Ux2R7LvNreRclnYxZBHRdEOxlcPo7x5fpQZkff6Q5F2u\n",
       "LRa6XO3hEWKqKzEAAAEtQZqFSeEPJlMCH//+qZYAAqWSkHMRvoASf6uPF5lZue6uVNxiP+m2ik1G\n",
       "STALSyTFvS1yhk8A0kT7wT5RkUdIcdLlbpDisRKH9YDkcaonv2cbNHmDnIrMNLL7YgdJ7scB5y5Z\n",
       "8ZQFD6g4bVuXf2veQOWH2EwbqkF6/49S5DVt5/ehOGqdgFB3KXyZG+J+d0ZtJLd9+J3R4NTjr/NJ\n",
       "tuJNhQm1abjnzG+uZCfsUW1zwDPd505BayowNE9h6sqpA5pl1k6wGm4K+L62SziShhMZXoolJuMG\n",
       "sO8V749KOlmbYFFlVUuHkeNcd8bkybwgayEOEEDipDmbJv78D2lE1dxm/0TOj7GL9fJGrz3lH3qH\n",
       "PzcaZAlxnMDnv4FsXiRXFuHRlt9vmQsEa/NTjY5d+QAAAYpBmqZJ4Q8mUwIIf/6qVQAAso6mYAAm\n",
       "r5szGL+BqHJ2Twk3teIe0QC58e2M+SIQcaHrcbTGcksRt7kfLMbtHJNLI0nEmXTFSdjZmuLChPm6\n",
       "x/cV+2pUthbgeFLCE5c83qof2CDt+U+slHyHWmwbP3h8eZB/aiDDzc5W8DWVZrmUVR7Kc++obS3l\n",
       "zWrVTzbi4IoIGRLVvuj3rp3HU34bnfT0mo7+Nm0MaA4EOAF9G6qacoWDO8untv/eDojWvSXv6vku\n",
       "b1p9R5J2F2UQ0ISlbj4l9OQKoLUS6md3Wsg+Y4Y+otrBKWRmwgVu21e9w2lBEDVVO84jmjnp6ZWf\n",
       "le1OeqxtT2LnWZTRJleiv6DPsy33E9YR+PTks0niZ9efDEjVSVlKyVr53ISg3nMHhXgTR6bDZdZu\n",
       "jHxdQkSNB1XB8rfnaHjpYcRhtjJMjq/Vw0iG78E3TbEwuY4xk53yDAvfpQ47ueRoEjfKMsIHyjUV\n",
       "w8c3fXuFhwGNMW1G/JVBQvOZ9FgjdwpVYz1drNmRAAABzUGax0nhDyZTAgh//qpVAAKXw3+VVja2\n",
       "ACX15yU6v/pHzS3xzD0LVc39VOXPWkU+bs2QfgCWAP55GZwecRx/lgtJgvgKYZNFwpV+kg4hBqnX\n",
       "oTvXp/rMiixRPs7MvEw55jnnKhQDSFGC4Mqys1KTPK7Oj2cX75nmiTGLR579gXQf3qLgy+EjNZQN\n",
       "DN3uQTwXydtlZmgd+f651uWytwZ/InZ7owrIRKohZUih8TLXIzdP0RrK1vDIvQyCMAoDWca7GtYc\n",
       "F7BKQqwFnsCgKXJ1NKX/Rm7x8iHdRTCxYo6KP8+QtjUuSebz2OIhJjUjOsIg2KtMm7gFxFBRk2Q9\n",
       "kRU/ryywPb9gd4Lv6TtRutqvYp8L3HCqejspftWVfvuDDnI5R/KWpJpCfY5meDLJlGO617tS1+Jh\n",
       "opVZ8VrDtOBdxXwOufg+o7FsepZY+Pji2gcrEFVdX902eCE1ub2TaNkQh17+002LbWvEqbEjbJlq\n",
       "8SMopTmeMUNthvcKPiiU5KT8iKwx4RvMnL/merpi4gtTSDx9/6Cl7w7Bl9AXQ3g2CL16BadZ9FWz\n",
       "JnKTYQt13fBnKjnJKhde/e92ps6akp5QlwNvX5eEyInZ/tFBRu1hAAABlUGa6knhDyZTAgh//qpV\n",
       "AAW/hv8aML3iACyZY2WWFCkg2L+MBKphKKfj0yuVPNpRbxIQPj4YfrsIRx2LbnUgSTmdmSYKiMf6\n",
       "cEu/jISLNzHW/H/YpAqKrx4v4eUedPzbz0L1yGRhu87iC3SuLAWNHFRFOR3C02bB6u1bD3ZpBOLj\n",
       "5sKy0w2d65uJGCETYuH5uqSAFzBAboSxrrpK2hM+fBoXlaj5QhUpOL3386/3P6m5KoCaERSyCedH\n",
       "xOOwDfmEnwBX6zYxD5kU4NaMEB8GrjtHoktjWKgB4iyDvYpwaZjm9V6fCQhwcXTBCF8iIJJYEJty\n",
       "4y2GkIhdhjnur259EdZGU7ONHnTSLq/s8rfVAU6RjiLk3MfoU9UwNIVQXlcHkNffH823m6iicTet\n",
       "v0N+Fu2S5QIGh3JuHleboASKuxKxA2X7tlM/djpJYw4wjfNOr5oS+n7mNZ73VEZAf3Taq1sabnrX\n",
       "kevbMwAH9zEjSQD28Uv5y5t3s3enljb70yk+Eby3SceOcfLHrMsaKs52Vyy/HpkmgAAAAWdBnwhF\n",
       "ETw3/wAPiUIFBWFAAnb3fRjkSQiGFExUDFYtjrajaPbq9Yjxrkeu30h1pkyiXiJx8XrRNbQoZs2F\n",
       "g3rcJ33VKiBkPfhmeQSX6/jmWMJ8/ZScl1CzOutTWYc9IDvMcG2eB2FTajHqeN5f3W8nNY6Zd3jF\n",
       "fPyE8zf/EumpyJMdv1U/lG8VcnqCGG5cbClTK9k4JRWSb41vxkDRWGLnlcbpNoO9YYlmDdmb3np4\n",
       "fsgPKt2uIPG8GZYEW8+IW3plVc+yYeW1fpC+RELPj8aDu4nDZZCcZMYgUnNJGfa6UEJu4uUaMxaP\n",
       "mLUyVA8mtCBCCC/eIcQMNJXoBBsPvER6ZR8Bb19NTNYeH+ve/8i6AlYTzQDOq6JyZ7+r3URdDVdU\n",
       "a1VvuaUhdhgfF85dPmEJY7nQSIPa3KrlDUOJsIZ/wgac2Xx77XKzeDBbj8svP/LRuAvKQ7Cp3wxU\n",
       "jw3uBghjJsH4rnKJuAAAAQcBnylqQ38AD4lCAaI/Lwc6nACZUD9IxQGwXCrVDL7l2zR3a4B6VyBK\n",
       "8gpntP+3+4QXAPK4Mc8c4PbgQwuMXibQE9hT84E8QRbgWrnfrB6grS+HzK/F4ZA9SZkjQQMUpG+/\n",
       "QAMuNopTDDAt9Q62t5zaH7F+KGhCDufGWQXVzctM5JeaXeRZTww5p45k+MHzz2VEKWWpUVG2twh5\n",
       "E48oDeq+BLzGlFy49FvRCcEBoHVB0ItFjZVL4GAbBO0N1KIhIgGzEH9vSDjb3Uh/z5RdtQEAf+6m\n",
       "O7bDlnGBYr3ALskOcSo7BfU0ADFuznCjFpA9PYPWxX1xhwiV1gK1NMKv8PLKuXCORH5Q4QAAAaZB\n",
       "mytJqEFomUwIIf/+qlUABeOG/wq9biAEKfOXWBqapKbRQkepIoF3epmUJ2N6r4PUcqRXuoV7ZC7S\n",
       "RVeQwqaIGYp5o5QEFJicb8WO/x7enMB6WymkHgWF9ER6Xu61E/atBVxllhhz6ysJL4Hmc4ClScof\n",
       "c4CBScLrfPzw0gDfCVZaARu+a2KkNzyytQZoMEwwgKfTUucgR5ZESQ7gbRi6QC2FR/MoPdHgDhFU\n",
       "Zj0NqKPuWdJvi/Tn3kYeqRVpeRuNSZcdxspA22+45xq7PRTkh++9wgu4OejYDjjtM0Pw3wfw+KDC\n",
       "XKFb83FBVd4dCzgZ7N6jOlTNQSBzA5krRu6ubLnFyiI07fzzauuA2n1LaZLLhvwKVEeNAkptz/bU\n",
       "og8xgQ5nQVsZgD3YkIOY7SoKrbIXZDO/ryPRGQB87CPqsoY3gO1pCyRIt5JYgzj6O8vtf6yOVPUL\n",
       "eYmhLle/hMJFbjpwwt903P3x1Pv6D7pknslMvh285hN3yaIVs+cfyB6gHwM1ZLuGtg6qu7i5Xw52\n",
       "kRlvvsmUTNZBWOS4B7G2VL4QhUSqHAAAAUtBm0xJ4QpSZTAgh//+qlUABePi9rt6q8GxTU588Eoi\n",
       "QgAL2KyPrLEXFeWfnNpoJ5LS/8v42XkGMJdtjVethIMiFZBb+JVuL/Yjf4ZLyfUPdMFRfIho7QBV\n",
       "NCQu3WagKxjw1KJm707AU3/8Udf0ZtbIcxjFGrpBVG5lbtEIi9JIsBreFjAtfMjKGQ8zFQSMrGn+\n",
       "1JVaVGJoMTajkculq6q7yh/PUqRJ68DG/aGO5BQy/Jdz1XI2DZPazpx7xFumAT2ah4DqltrLGIMR\n",
       "rZoZnXvQqHUmEehTpL1bgrzfAex4HYTM7yygRqpD3NeaSy+T5GLQkMfUVk8vZYgc1MA/QRLzG7ah\n",
       "+xwpIzqVPhiE8mAjP9Gj4r4kjxVZ2JeYCuTZijxQz2sMMegJH+rSFO2jjrgCtFEcf6stVmAYX0Jw\n",
       "bFrLvh5jID0X7pV8Qs54AAABtUGbcEnhDomUwIf//qmWAAbTZ/8e2tEAAmjCV1g4onN2+tzWI76U\n",
       "J1D7Zx6jPfpdTj10hLZgUCLbexiYm5503qXjz9LPy3REeRorlOdap/PXRH7bf7JqlR4qXx2CntRI\n",
       "GUYxxhZFLOn0gMRkuUV1pjKw2qn2BbsuNaCFGULTJ2ZMN+Be6fGa9W9Zxoax6NjqKpDnH0uAVZ+i\n",
       "c8SGW+AyP7sbxpcoYJTci08w5Z9+YhyW7CL8r39hEeCcoNL2xfryW/CxWC46tzCLnXYNxOgzI+kk\n",
       "6388x4krRO6ehPRuS3oMnSXRNBcU3eVLlmCns7gbkV/1BqUtVedEJ0e6JbOEL8G9zbtdPtS6ZCEK\n",
       "aHDm3ZHLtLV9iaZ6sINw6CbjrKw8ttLeR2hvtoWw9rOQOz1CA4xEZmLtdl7JqD3pAQ+1HAZ7RU05\n",
       "LGWFZ77OinBpphjOHN0RgsP/w65prTiZeIsCCcY/hh5T4G0LvftwLMeqBuHMZU8VR1UHTF8phN/u\n",
       "9QVbqidCxZSt5alyvkESxuVxulu0IZFDSeQGaiHf4lsuO6/KgzkCRUVRziVu/cEmg3jd7GzjkA+J\n",
       "AAAAtUGfjkURPDv/AAcNSBYeLboIFT0gTxVFaX+sKGsWOfuTzjjeQAblHjreAS5mOLwcU07GQxNv\n",
       "naLf/3lEDHtyMmUMO0hGspV/1plRnJn/F94ZtgejkiCDhx6iasedAUQlFEL4+fp5LfbD6dhidolH\n",
       "Z0wv31lmESfu7RFyrvmVCplTwVWlSZprv3lAYpyS6xjIE6NpeFZ8/LMp2FQ+/UBvZ6aCeNkMGlEB\n",
       "khADV6DZNskq/PbvJ60AAAFfAZ+tdEN/AAo531M2sWvgls/HhLAMWbtA47q5+HnjVGAEKe5nblox\n",
       "b8wMg2po2NSi9TmZxZ7lcPAJ0C/Nk4aFhtPCHBh6RctHKj2+B2Dvl3v/yzg03PzyDVFH133GNSm5\n",
       "QYEWe5Lie2kBV3TZet1uahFj+t/5RhzkKiYlXqtmdUyW9bUwLyJ6SpOEiVmqTPPgA9iKXT+Ttx6B\n",
       "b2G/awBjp/MGVrBt2neamhkXuRXPHfnt1+NcmBOoBE5zYboRRoe+oXV86cyFRHW96X39wuJC+nD/\n",
       "f6buX6cLOwZFvb2khYYSnE9yUoi21DlUxtq0QZbRylbRzIbbpPxEV39NotldQ9M67jkpjAUissRj\n",
       "b33dhqYNftk6ALja2iRPsVJWMZbsSH3/mTeO8ke5ei/3gHVnHbasNOyZeKCmhEtgRY2ietUurj6I\n",
       "wdaEjVsbqsjMklQtmH8mOZXMJ9Y9o/LgyVHBAAABAwGfr2pDfwAKO9C5FaOJD8lFKKv86AQOhAUG\n",
       "6A5U1uEhiPlSNJo30Mm6IkTv+Jto3uObppNT1AJ30gAsXG6+yiDI/kehishU+Cud5u4GCPAWr4d5\n",
       "50Mkhk9o2DVgwzZymmreQj4B+mGgXsB4EFBftnIwXCSBBNTpIHg49VysgnUqzKbEYfSNlCYwwYPU\n",
       "DbbVuiwN+1usnE3TVuqJaodU2rmi+szUbJD5eP7ybdPelI9UAPqDOQ6rOrOK3tdZnJk/Ff+cegVL\n",
       "17NAmIlCOmYAWFeCkvY2pMM5dATAOwOy3qHY5gKTodsMwPyShyQYWPzuLQvzas6vXmwy6TQ16aVc\n",
       "j7pHYGAAAAE+QZuySahBaJlMFPD//qmWAAbMIEVRfUGABkUHktKOY4lNsYRRu9ibL70ro7KoHqQM\n",
       "YUrHwWNW5+S0cRvDvoQfJZbjDDX7sxmmAGUHL87ORJejPpgWxv6So8Bu7Olpre0UWgp/DFtiLgv7\n",
       "BOBCkShpIzO6KPiKxAcQhWFko/lCRYsL0uaZujns/vhx76eDfiL7fhToM39HcOU0KdBMYKgzILIK\n",
       "tuT+kaOBz1FWQmQmMDuhxtAsGeY3hUNJlz9m1eJzujuwZ/wHStHS7PMwzUGsSdFhDGS1F/gMSgrS\n",
       "kadiMvIporRUNjnHXzncIwujnXKpvPMhiaeW4M0K3hc62QlyWbTPdhQ9flyYw7t5hW9qWWccr2mz\n",
       "sJnPGJbw9ivWLwtSsyVQtkhZvfq58+TwNJQ1CmHChvhfdA4L1TbDhigQAAABNAGf0WpDfwAKPMGL\n",
       "4LACWrkvh2P7B4LUUxCLVPnpCBsUitsfxHLcuxPjO0Joo6peGvF/RPZODMS31tnmvMnqPoT82NxJ\n",
       "Yos0wI/TDrWcmWSG4zcDNGfIxbFhTG2mbjX2ZrNOuxz4OGIZkd1cbTR2Ej7Iq7CIzm5mzpVRBfyq\n",
       "AoxZLBy4qugwSRDIcTWoevUq25UQOFWhkAIwqHAB2k0tpKceYJ5pTRg89usC1O0ksF0xS5BG24Ex\n",
       "BKOJlCThiogLJKR+0ndlaf25zw8gAPSddvL1ZqMkq2l2dLXCFebdN5y1jrGHohcj0WLIkdgN00ZI\n",
       "Kp/J6FBp2QeCrznYn8X4nls+JXDGLR4jrAiFw4bsHAmVghvixn7zNpZlrvLb0VJw+ReGbV4qJQ1d\n",
       "8Egm+CswUSQFtr2pAAAAYUGb1EnhClJlMFLDf/6nhAANj7KfgsM5UH5pACIPQPcrVfIvu1baEN/l\n",
       "yEGbRAiV2oki7PQ47RzwIDRDRFhw+4NO3FIOM/SSMk0aD12pzAk4ZdY+xkCGmrvN8VrgNyHgD/AA\n",
       "AAAmAZ/zakN/AATWMlIy2MMMipzH3SgyPezGPJ5XeWqMeCAI6GigHTAAAAP6bW9vdgAAAGxtdmhk\n",
       "AAAAAAAAAAAAAAAAAAAD6AAACDQAAQAAAQAAAAAAAAAAAAAAAAEAAAAAAAAAAAAAAAAAAAABAAAA\n",
       "AAAAAAAAAAAAAABAAAAAAAAAAAAAAAAAAAAAAAAAAAAAAAAAAAAAAAAAAgAAAyR0cmFrAAAAXHRr\n",
       "aGQAAAADAAAAAAAAAAAAAAABAAAAAAAACDQAAAAAAAAAAAAAAAAAAAAAAAEAAAAAAAAAAAAAAAAA\n",
       "AAABAAAAAAAAAAAAAAAAAABAAAAAAbAAAAEgAAAAAAAkZWR0cwAAABxlbHN0AAAAAAAAAAEAAAg0\n",
       "AAAIAAABAAAAAAKcbWRpYQAAACBtZGhkAAAAAAAAAAAAAAAAAAAoAAAAVABVxAAAAAAALWhkbHIA\n",
       "AAAAAAAAAHZpZGUAAAAAAAAAAAAAAABWaWRlb0hhbmRsZXIAAAACR21pbmYAAAAUdm1oZAAAAAEA\n",
       "AAAAAAAAAAAAACRkaW5mAAAAHGRyZWYAAAAAAAAAAQAAAAx1cmwgAAAAAQAAAgdzdGJsAAAAs3N0\n",
       "c2QAAAAAAAAAAQAAAKNhdmMxAAAAAAAAAAEAAAAAAAAAAAAAAAAAAAAAAbABIABIAAAASAAAAAAA\n",
       "AAABAAAAAAAAAAAAAAAAAAAAAAAAAAAAAAAAAAAAAAAAAAAAGP//AAAAMWF2Y0MBZAAV/+EAGGdk\n",
       "ABWs2UGwloQAAAMABAAAAwBQPFi2WAEABmjr48siwAAAABx1dWlka2hA8l8kT8W6OaUbzwMj8wAA\n",
       "AAAAAAAYc3R0cwAAAAAAAAABAAAAFQAABAAAAAAUc3RzcwAAAAAAAAABAAAAAQAAAIhjdHRzAAAA\n",
       "AAAAAA8AAAABAAAIAAAAAAEAAAwAAAAAAQAABAAAAAAFAAAIAAAAAAEAABAAAAAAAgAABAAAAAAC\n",
       "AAAIAAAAAAEAABQAAAAAAQAACAAAAAABAAAAAAAAAAEAAAQAAAAAAQAADAAAAAABAAAEAAAAAAEA\n",
       "AAwAAAAAAQAABAAAAAAcc3RzYwAAAAAAAAABAAAAAQAAABUAAAABAAAAaHN0c3oAAAAAAAAAAAAA\n",
       "ABUAABAhAAADGgAAAUQAAADTAAABQwAAATEAAAGOAAAB0QAAAZkAAAFrAAABCwAAAaoAAAFPAAAB\n",
       "uQAAALkAAAFjAAABBwAAAUIAAAE4AAAAZQAAACoAAAAUc3RjbwAAAAAAAAABAAAALAAAAGJ1ZHRh\n",
       "AAAAWm1ldGEAAAAAAAAAIWhkbHIAAAAAAAAAAG1kaXJhcHBsAAAAAAAAAAAAAAAALWlsc3QAAAAl\n",
       "qXRvbwAAAB1kYXRhAAAAAQAAAABMYXZmNTcuODMuMTAw\n",
       "\">\n",
       "  Your browser does not support the video tag.\n",
       "</video>"
      ],
      "text/plain": [
       "<IPython.core.display.HTML object>"
      ]
     },
     "execution_count": 170,
     "metadata": {},
     "output_type": "execute_result"
    },
    {
     "data": {
      "image/png": "[encoded data removed]",
      "text/plain": [
       "<Figure size 432x288 with 1 Axes>"
      ]
     },
     "metadata": {
      "needs_background": "light"
     },
     "output_type": "display_data"
    }
   ],
   "source": [
    "fig = plt.figure()\n",
    "t=np.array([0]);\n",
    "j=0\n",
    "tlast=-2\n",
    "q = np.zeros((4,1));\n",
    "ani = animation.FuncAnimation(fig, animate, frames = Q_sol.shape[0], interval=del_t/2*1000)\n",
    "HTML(ani.to_html5_video())\n",
    "# print(t[-1])"
   ]
  },
  {
   "cell_type": "code",
   "execution_count": 171,
   "metadata": {},
   "outputs": [
    {
     "data": {
      "image/png": "[encoded data removed]",
      "text/plain": [
       "<Figure size 432x288 with 1 Axes>"
      ]
     },
     "metadata": {
      "needs_background": "light"
     },
     "output_type": "display_data"
    },
    {
     "data": {
      "text/plain": [
       "-1.3663706143591732"
      ]
     },
     "execution_count": 171,
     "metadata": {},
     "output_type": "execute_result"
    }
   ],
   "source": [
    "fig = plt.figure()\n",
    "plt.plot(t[0:-1], np.linalg.norm(Q_sol[:,4:6],axis=1))\n",
    "plt.plot(t[0:-1], Q_sol[:,5])\n",
    "plt.show()\n",
    "wrap_angle(11.2)"
   ]
  },
  {
   "cell_type": "code",
   "execution_count": 44,
   "metadata": {},
   "outputs": [],
   "source": [
    "def obj_fun2(X):\n",
    "    return np.sum(np.sin(X))"
   ]
  },
  {
   "cell_type": "code",
   "execution_count": 20,
   "metadata": {},
   "outputs": [],
   "source": [
    "constraints2 = [];\n",
    "def thisfun(X,b=0.4):\n",
    "    return cos(X[0])-b\n",
    "def constraint1(X):\n",
    "    return cos(X[0]) - 0.1\n",
    "constraints2.append({\"type\":\"ineq\",\"fun\" : constraint1})\n",
    "def constraint1(X):\n",
    "    return cos(X[1]) - 0.2\n",
    "constraints2.append({\"type\":\"ineq\",\"fun\" : constraint1})\n",
    "def constraint1(X):\n",
    "    return thisfun(X)\n",
    "constraints2.append({\"type\":\"ineq\",\"fun\" : constraint1})\n",
    "\n",
    "Q20 = np.pi,np.pi\n",
    "#  jac = lambda x,mat=hess_arr : mat @ x ,\n",
    "# constraints=boundaryconstraints+equalityconstraints+inputconstraints"
   ]
  },
  {
   "cell_type": "code",
   "execution_count": null,
   "metadata": {},
   "outputs": [],
   "source": [
    "# ani = animation.FuncAnimation(fig, animate,frames = int((tf-t)/0.01), interval=20, blit=True)\n",
    "# while t<tf:\n",
    "# #     global t, tf , q, u\n",
    "# #     ax=plt.gca()\n",
    "# #     ax.clear()\n",
    "# #     plt.clf()\n",
    "#     u = 10*np.array([[-pi/2-q[0,0]],[0]])\n",
    "#     q = state_transition(q,u,0.01)\n",
    "#     t=t+0.01;\n",
    "#     print(\"time is : %s \"%(t))\n",
    "# #         plt.clear()\n",
    "# #     plt.show(block=False)\n",
    "# #     time.sleep(0.2)\n",
    "# plt.plot([0,l1*sin(q[0,0]),l1*sin(q[0,0])+l2*sin(q[1,0]+q[0,0])],[0,-l1*cos(q[0,0]),-l1*cos(q[0,0])-l2*cos(q[1,0]+q[0,0])],'-k',linewidth=2)\n",
    "# plt.xlim([0-l1-l2,0+l1+l2])\n",
    "# plt.ylim([0-l1-l2,0+l1+l2])\n",
    "# plt.show()\n",
    "print(q[0,0],t)\n",
    "# fig2 = plt.figure()\n",
    "# plt.plot([0,l1*sin(q[0,0]),l1*sin(q[0,0])+l2*sin(q[1,0]+q[0,0])],[0,-l1*cos(q[0,0]),-l1*cos(q[0,0])-l2*cos(q[1,0]+q[0,0])],'-k',linewidth=2)\n",
    "# plt.xlim([0-l1-l2,0+l1+l2])\n",
    "# plt.ylim([0-l1-l2,0+l1+l2])\n"
   ]
  },
  {
   "cell_type": "code",
   "execution_count": 159,
   "metadata": {
    "collapsed": true,
    "jupyter": {
     "outputs_hidden": true
    }
   },
   "outputs": [
    {
     "name": "stdout",
     "output_type": "stream",
     "text": [
      "-0.010796326794895394\n",
      "[ True  True  True  True  True  True  True  True  True  True  True  True\n",
      "  True  True  True  True  True  True  True  True  True  True  True  True\n",
      "  True  True  True  True  True  True  True  True  True  True  True  True\n",
      "  True  True False False False False False False False False False False\n",
      " False False]\n"
     ]
    }
   ],
   "source": [
    "t=0;\n",
    "tf=100;\n",
    "q1 = -pi/2\n",
    "q3 = 0\n",
    "while q1<pi/2:\n",
    "    q=np.array([[q1],[0],[q3],[0]])\n",
    "    qddot=np.block([[np.linspace(-I1*pi/2,I1*pi/2)],[np.zeros((1,50))]])\n",
    "    cost_arr = cost_calc(q,qddot,0.01)\n",
    "    q=np.array([[q1],[-2*q1],[q3],[-2*q3]])\n",
    "    qddot[1,:] = -2*qddot[0,:]\n",
    "    cost_arr2 = cost_calc(q,qddot,0.01)\n",
    "    if not (cost_arr>=cost_arr2).all():\n",
    "        break;\n",
    "    q1 = q1+0.03\n",
    "print(q1)\n",
    "print(cost_arr>=cost_arr2)\n"
   ]
  },
  {
   "cell_type": "code",
   "execution_count": 55,
   "metadata": {},
   "outputs": [
    {
     "ename": "SyntaxError",
     "evalue": "invalid syntax (<ipython-input-55-d9e35dbf27c6>, line 1)",
     "output_type": "error",
     "traceback": [
      "\u001b[0;36m  File \u001b[0;32m\"<ipython-input-55-d9e35dbf27c6>\"\u001b[0;36m, line \u001b[0;32m1\u001b[0m\n\u001b[0;31m    cons = [{'type' : 'eq', 'fun':}]\u001b[0m\n\u001b[0m                                  ^\u001b[0m\n\u001b[0;31mSyntaxError\u001b[0m\u001b[0;31m:\u001b[0m invalid syntax\n"
     ]
    }
   ],
   "source": [
    "\n",
    "    "
   ]
  },
  {
   "cell_type": "code",
   "execution_count": null,
   "metadata": {},
   "outputs": [],
   "source": []
  }
 ],
 "metadata": {
  "kernelspec": {
   "display_name": "Python 3",
   "language": "python",
   "name": "python3"
  },
  "language_info": {
   "codemirror_mode": {
    "name": "ipython",
    "version": 3
   },
   "file_extension": ".py",
   "mimetype": "text/x-python",
   "name": "python",
   "nbconvert_exporter": "python",
   "pygments_lexer": "ipython3",
   "version": "3.6.9"
  }
 },
 "nbformat": 4,
 "nbformat_minor": 4
}
