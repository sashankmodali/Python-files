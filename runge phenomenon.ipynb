{
 "cells": [
  {
   "cell_type": "code",
   "execution_count": 29,
   "metadata": {},
   "outputs": [],
   "source": [
    "import numpy as np\n",
    "import matplotlib.pyplot as plt\n",
    "import matplotlib.cm as cm\n",
    "\n",
    "def poly(x):\n",
    "    return 1/(1+x**2)"
   ]
  },
  {
   "cell_type": "code",
   "execution_count": 138,
   "metadata": {},
   "outputs": [],
   "source": [
    "# xp = np.array([0,1,2,3,4,5])\n",
    "# yp = poly(xp)"
   ]
  },
  {
   "cell_type": "code",
   "execution_count": 7,
   "metadata": {},
   "outputs": [],
   "source": [
    "def comb(n,r):\n",
    "    prod = 1;\n",
    "    prod2=1;\n",
    "    for i in range(r):\n",
    "        prod = prod*(n-i)\n",
    "        prod2 = prod2*(i+1)\n",
    "    return prod/prod2;"
   ]
  },
  {
   "cell_type": "code",
   "execution_count": 8,
   "metadata": {
    "jupyter": {
     "source_hidden": true
    }
   },
   "outputs": [],
   "source": [
    "def interpol_fwd(x,xp,yp):\n",
    "    if (x<=5).all() and (x>=0).all():\n",
    "        p = x/1;\n",
    "        pn = yp[0];\n",
    "        for i in range(1,len(yp)):\n",
    "            term = 0;\n",
    "            for j in range(0,i+1):\n",
    "                term = term + comb(i,j)*(-1)**(i-j)*(yp[j])\n",
    "            pn = pn + comb(p,i)*(term)\n",
    "        return pn\n",
    "    else:\n",
    "        return 0;"
   ]
  },
  {
   "cell_type": "code",
   "execution_count": 9,
   "metadata": {
    "jupyter": {
     "source_hidden": true
    }
   },
   "outputs": [],
   "source": [
    "def interpol_bwd(x,xp,yp):\n",
    "    if (x<=5).all() and (x>=0).all():\n",
    "        p = (x-5)/1;\n",
    "        pn = yp[-1];\n",
    "        for i in range(1,len(yp)):\n",
    "            term = 0;\n",
    "            for j in range(0,i+1):\n",
    "                term = term + comb(i,j)*(-1)**(j)*(yp[len(yp)-1-j])\n",
    "            pn = pn + comb(p+i-1,i)*(term)\n",
    "        return pn\n",
    "    else:\n",
    "        return 0;"
   ]
  },
  {
   "cell_type": "code",
   "execution_count": 20,
   "metadata": {},
   "outputs": [],
   "source": [
    "def interpol_fwd(x,xp,yp):\n",
    "    if (x<=5).all() and (x>=-5).all():\n",
    "        pn = np.zeros((len(x),))\n",
    "        for i in range(0,len(yp)-1):\n",
    "            term=yp[i]\n",
    "            term2=1;\n",
    "            for j in range(0,len(yp)-1):\n",
    "                if j!=i:\n",
    "                    term = term*(x-xp[j])\n",
    "                    term2 = term2*(xp[i]-xp[j])\n",
    "            pn = pn + term/term2\n",
    "        return pn\n",
    "    else:\n",
    "        return 0;"
   ]
  },
  {
   "cell_type": "code",
   "execution_count": 44,
   "metadata": {},
   "outputs": [
    {
     "name": "stdout",
     "output_type": "stream",
     "text": [
      "Num : 1, array : [-5.]\n",
      "Num : 2, array : [-5.  5.]\n",
      "Num : 3, array : [-5.  0.  5.]\n",
      "Num : 4, array : [-5.   -1.67  1.67  5.  ]\n",
      "Num : 5, array : [-5.  -2.5  0.   2.5  5. ]\n",
      "Num : 6, array : [-5. -3. -1.  1.  3.  5.]\n",
      "Num : 7, array : [-5.   -3.33 -1.67  0.    1.67  3.33  5.  ]\n",
      "Num : 8, array : [-5.   -3.57 -2.14 -0.71  0.71  2.14  3.57  5.  ]\n",
      "Num : 9, array : [-5.   -3.75 -2.5  -1.25  0.    1.25  2.5   3.75  5.  ]\n",
      "Num : 10, array : [-5.   -3.89 -2.78 -1.67 -0.56  0.56  1.67  2.78  3.89  5.  ]\n",
      "Num : 11, array : [-5. -4. -3. -2. -1.  0.  1.  2.  3.  4.  5.]\n",
      "Num : 12, array : [-5.   -4.09 -3.18 -2.27 -1.36 -0.45  0.45  1.36  2.27  3.18  4.09  5.  ]\n",
      "Num : 13, array : [-5.   -4.17 -3.33 -2.5  -1.67 -0.83  0.    0.83  1.67  2.5   3.33  4.17\n",
      "  5.  ]\n",
      "Num : 14, array : [-5.   -4.23 -3.46 -2.69 -1.92 -1.15 -0.38  0.38  1.15  1.92  2.69  3.46\n",
      "  4.23  5.  ]\n",
      "Num : 15, array : [-5.   -4.29 -3.57 -2.86 -2.14 -1.43 -0.71  0.    0.71  1.43  2.14  2.86\n",
      "  3.57  4.29  5.  ]\n",
      "Num : 16, array : [-5.   -4.33 -3.67 -3.   -2.33 -1.67 -1.   -0.33  0.33  1.    1.67  2.33\n",
      "  3.    3.67  4.33  5.  ]\n",
      "Num : 17, array : [-5.   -4.38 -3.75 -3.12 -2.5  -1.88 -1.25 -0.62  0.    0.62  1.25  1.88\n",
      "  2.5   3.12  3.75  4.38  5.  ]\n",
      "Num : 18, array : [-5.   -4.41 -3.82 -3.24 -2.65 -2.06 -1.47 -0.88 -0.29  0.29  0.88  1.47\n",
      "  2.06  2.65  3.24  3.82  4.41  5.  ]\n",
      "Num : 19, array : [-5.   -4.44 -3.89 -3.33 -2.78 -2.22 -1.67 -1.11 -0.56  0.    0.56  1.11\n",
      "  1.67  2.22  2.78  3.33  3.89  4.44  5.  ]\n",
      "Num : 20, array : [-5.   -4.47 -3.95 -3.42 -2.89 -2.37 -1.84 -1.32 -0.79 -0.26  0.26  0.79\n",
      "  1.32  1.84  2.37  2.89  3.42  3.95  4.47  5.  ]\n"
     ]
    },
    {
     "data": {
      "image/png": "[encoded data removed]",
      "text/plain": [
       "<Figure size 432x288 with 1 Axes>"
      ]
     },
     "metadata": {
      "needs_background": "light"
     },
     "output_type": "display_data"
    }
   ],
   "source": [
    "xtest = np.linspace(-5,5,100)\n",
    "ytest = poly(xtest)\n",
    "maxnum = 20\n",
    "colors = cm.rainbow(np.linspace(0, 1, maxnum+1))\n",
    "plt.figure()\n",
    "for i in range(1,maxnum+1):\n",
    "    xp = np.linspace(-5,5,i)\n",
    "    print(\"Num : \" + str(i) + \", array : \" + str(np.round(xp,2)))\n",
    "    yp = poly(xp)\n",
    "    yint_fwd = np.array(interpol_fwd(xtest,xp,yp)).reshape(len(xtest),)\n",
    "#     print(xtest.shape)\n",
    "#     print(yint_fwd.shape)\n",
    "#     yint_bwd = interpol_bwd(xtest,xp,yp)\n",
    "    plt.plot(xtest,yint_fwd,color=colors[i-1],label=\"deg. \" + str(i))\n",
    "#     plt.plot(xtest,yint_bwd-ytest,'--r')\n",
    "# plt.plot(xtest,ytest,'-k')\n",
    "plt.plot(xtest,ytest,'--k', label=\"True\")\n",
    "plt.legend(bbox_to_anchor=(1.1, 1.05))\n",
    "# plt.ylim([-5,5])\n",
    "plt.xlim([4,6])\n",
    "plt.grid()\n",
    "plt.show()\n",
    "# yint_fwdgiven = interpol_fwd(xp)\n",
    "# yint_bwdgiven = interpol_bwd(xp)"
   ]
  },
  {
   "cell_type": "code",
   "execution_count": null,
   "metadata": {},
   "outputs": [],
   "source": []
  },
  {
   "cell_type": "code",
   "execution_count": null,
   "metadata": {},
   "outputs": [],
   "source": []
  }
 ],
 "metadata": {
  "kernelspec": {
   "display_name": "Python 3",
   "language": "python",
   "name": "python3"
  },
  "language_info": {
   "codemirror_mode": {
    "name": "ipython",
    "version": 3
   },
   "file_extension": ".py",
   "mimetype": "text/x-python",
   "name": "python",
   "nbconvert_exporter": "python",
   "pygments_lexer": "ipython3",
   "version": "3.9.1"
  }
 },
 "nbformat": 4,
 "nbformat_minor": 4
}
